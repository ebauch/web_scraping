{
 "cells": [
  {
   "cell_type": "code",
   "execution_count": 270,
   "metadata": {
    "collapsed": true
   },
   "outputs": [],
   "source": [
    "# to get html content\n",
    "import requests\n",
    "\n",
    "from requests import Session\n",
    "\n",
    "from bs4 import BeautifulSoup\n",
    "# conda install -c anaconda beautiful-soup=4.3.2\n",
    "# conda install lxml\n",
    "\n",
    "import json"
   ]
  },
  {
   "cell_type": "markdown",
   "metadata": {},
   "source": [
    "### download single product"
   ]
  },
  {
   "cell_type": "code",
   "execution_count": 323,
   "metadata": {
    "collapsed": true
   },
   "outputs": [],
   "source": [
    "producturl = \"http://www.sigmaaldrich.com/catalog/product/sial/41144\"\n",
    "    \n",
    "r = requests.get(producturl)\n",
    "\n",
    "if r.status_code == 200:\n",
    "        \n",
    "    soup = BeautifulSoup(r.text, \"html.parser\")"
   ]
  },
  {
   "cell_type": "markdown",
   "metadata": {},
   "source": [
    "product infos are saved in ``` div id=\"productInfo\" ```"
   ]
  },
  {
   "cell_type": "code",
   "execution_count": 324,
   "metadata": {},
   "outputs": [
    {
     "data": {
      "text/plain": [
       "<div class=\"productInfo twoThirds\">\n",
       "<strong class=\"strongH5\" itemprop=\"productID\"> 41144 </strong>\n",
       "<strong class=\"strongH5\" itemprop=\"brand\"> Sigma-Aldrich </strong>\n",
       "<h1 itemprop=\"name\">\n",
       "    β-Alanine\n",
       "\t\n",
       " \n",
       "\n",
       "\n",
       "\n",
       "</h1>\n",
       "<input id=\"pdpIdGA\" type=\"hidden\" value=\"41144\">\n",
       "<input id=\"pdpBrandGA\" type=\"hidden\" value=\"Sigma-Aldrich\"/>\n",
       "<input id=\"pdpNameGA\" type=\"hidden\" value=\"β-Alanine\"/>\n",
       "<h2 itemprop=\"description\">\n",
       "\tanalytical standard\n",
       "</h2>\n",
       "<!--TODO need to add country and region from cookie/profile into this -->\n",
       "<p class=\"synonym\"><span>Synonym: </span> <strong> \n",
       "\t\tβ-Ala,\n",
       "\t\t\n",
       "\t\n",
       "\t\t3-Aminopropionic acid\n",
       "\t</strong></p>\n",
       "<div class=\"productLinks\">\n",
       "<a class=\"btn-grey\" href=\"javascript:submitMSDSSearch('US','');\" id=\"btn-msds\">\n",
       "<div class=\"btn-grey-left\"></div>\n",
       "<div class=\"btn-grey-mid\">\n",
       "\t\t\t\t\tSDS\n",
       "\t\t\t\t</div>\n",
       "<div class=\"btn-grey-right\"></div>\n",
       "</a>\n",
       "<span class=\"btn-grey\" id=\"btn-similar\" itemprop=\"isSimilarTo\">\n",
       "<a class=\"btn-grey\" href=\"/catalog/substance/balanine890910795911?lang=en®ion=US\" id=\"btn-similar\" itemprop=\"isPartOf\"><div class=\"btn-grey-left\"></div><div class=\"btn-grey-mid\">Similar Products</div><div class=\"btn-grey-right\"></div></a>\n",
       "</span>\n",
       "</div>\n",
       "<ul class=\"clearfix\">\n",
       "<li>\n",
       "<p>CAS Number <span> <a href=\"/catalog/search?term=107-95-9&amp;interface=CAS No.&amp;N=0&amp;mode=partialmax&amp;lang=en®ion=US&amp;focus=product\">107-95-9</a> </span></p>\n",
       "</li>\n",
       "<li>\n",
       "<p>Linear Formula <span> NH<sub>2</sub>CH<sub>2</sub>CH<sub>2</sub>COOH </span></p>\n",
       "</li>\n",
       "<li>\n",
       "<p>Molecular Weight <span> 89.09 </span></p>\n",
       "</li>\n",
       "<li>\n",
       "<p> Beilstein Registry Number <span> 906793 </span></p>\n",
       "</li>\n",
       "<li>\n",
       "<p> EC Number <span> <a href=\"/catalog/search?term=203-536-5&amp;interface=EG/EC No.&amp;N=0&amp;mode=partialmax&amp;lang=en®ion=US&amp;focus=product\">203-536-5</a> </span></p>\n",
       "</li>\n",
       "<li>\n",
       "<p> MDL number <span> <a href=\"/catalog/search?term=MFCD00008200&amp;interface=MDL No.&amp;N=0&amp;mode=partialmax&amp;lang=en®ion=US&amp;focus=product\">MFCD00008200</a> </span></p>\n",
       "</li>\n",
       "<li class=\"nobdr\">\n",
       "<p> PubChem Substance ID <span> <a class=\"External\" href=\"javascript:OpenWin('http://pubchem.ncbi.nlm.nih.gov/summary/summary.cgi?sid=329756061','height=600,width=800,scrollbars=yes,menubar=no,resizable=1,toolbar=no,status=no')\" onclick=\"cmCreateManualPageviewTag('pubchem.ncbi.nlm.nih.gov - 41144 SIAL', 'EXTERNAL LINKS', 'http://pubchem.ncbi.nlm.nih.gov/summary/summary.cgi?sid=329756061', window.location);\" rel=\"nofollow\">329756061</a><img src=\"/content/dam/sigma-aldrich/head/search/external-link-icon.gif\"/> </span></p>\n",
       "</li>\n",
       "</ul>\n",
       "</input></div>"
      ]
     },
     "execution_count": 324,
     "metadata": {},
     "output_type": "execute_result"
    }
   ],
   "source": [
    "productinfo = soup.find('div', class_='productInfo')\n",
    "productinfo"
   ]
  },
  {
   "cell_type": "code",
   "execution_count": 325,
   "metadata": {},
   "outputs": [
    {
     "data": {
      "text/plain": [
       "'\\n    β-Alanine\\n\\t\\n \\n\\n\\n\\n'"
      ]
     },
     "execution_count": 325,
     "metadata": {},
     "output_type": "execute_result"
    }
   ],
   "source": [
    "productinfo.find(itemprop=\"name\").get_text()"
   ]
  },
  {
   "cell_type": "code",
   "execution_count": 327,
   "metadata": {},
   "outputs": [
    {
     "data": {
      "text/plain": [
       "[<li>\n",
       " <p>CAS Number <span> <a href=\"/catalog/search?term=107-95-9&amp;interface=CAS No.&amp;N=0&amp;mode=partialmax&amp;lang=en®ion=US&amp;focus=product\">107-95-9</a> </span></p>\n",
       " </li>, <li>\n",
       " <p>Linear Formula <span> NH<sub>2</sub>CH<sub>2</sub>CH<sub>2</sub>COOH </span></p>\n",
       " </li>, <li>\n",
       " <p>Molecular Weight <span> 89.09 </span></p>\n",
       " </li>, <li>\n",
       " <p> Beilstein Registry Number <span> 906793 </span></p>\n",
       " </li>, <li>\n",
       " <p> EC Number <span> <a href=\"/catalog/search?term=203-536-5&amp;interface=EG/EC No.&amp;N=0&amp;mode=partialmax&amp;lang=en®ion=US&amp;focus=product\">203-536-5</a> </span></p>\n",
       " </li>, <li>\n",
       " <p> MDL number <span> <a href=\"/catalog/search?term=MFCD00008200&amp;interface=MDL No.&amp;N=0&amp;mode=partialmax&amp;lang=en®ion=US&amp;focus=product\">MFCD00008200</a> </span></p>\n",
       " </li>, <li class=\"nobdr\">\n",
       " <p> PubChem Substance ID <span> <a class=\"External\" href=\"javascript:OpenWin('http://pubchem.ncbi.nlm.nih.gov/summary/summary.cgi?sid=329756061','height=600,width=800,scrollbars=yes,menubar=no,resizable=1,toolbar=no,status=no')\" onclick=\"cmCreateManualPageviewTag('pubchem.ncbi.nlm.nih.gov - 41144 SIAL', 'EXTERNAL LINKS', 'http://pubchem.ncbi.nlm.nih.gov/summary/summary.cgi?sid=329756061', window.location);\" rel=\"nofollow\">329756061</a><img src=\"/content/dam/sigma-aldrich/head/search/external-link-icon.gif\"/> </span></p>\n",
       " </li>]"
      ]
     },
     "execution_count": 327,
     "metadata": {},
     "output_type": "execute_result"
    }
   ],
   "source": [
    "# secondary info is saved in ul list of productinfo\n",
    "\n",
    "lielements = section.find_next('ul').find_all('li')\n",
    "lielements"
   ]
  },
  {
   "cell_type": "markdown",
   "metadata": {},
   "source": [
    "### define function\n",
    "``` get_product_details([web page soup here]) ```"
   ]
  },
  {
   "cell_type": "code",
   "execution_count": 328,
   "metadata": {},
   "outputs": [
    {
     "data": {
      "text/plain": [
       "{'Beilstein Registry Number': '906793',\n",
       " 'CAS Number': '107-95-9',\n",
       " 'EC Number': '203-536-5',\n",
       " 'Linear Formula': 'NH2CH2CH2COOH',\n",
       " 'MDL number': 'MFCD00008200',\n",
       " 'Molecular Weight': '89.09',\n",
       " 'PubChem Substance ID': '329756061',\n",
       " 'brand': 'Sigma-Aldrich',\n",
       " 'description': 'analytical standard',\n",
       " 'name': 'β-Alanine',\n",
       " 'pid': '41144',\n",
       " 'price': '',\n",
       " 'synonyms': ['β-Ala', '3-Aminopropionic acid']}"
      ]
     },
     "execution_count": 328,
     "metadata": {},
     "output_type": "execute_result"
    }
   ],
   "source": [
    "# get product infos\n",
    "\n",
    "def get_product_details(soup):\n",
    "    \n",
    "    # initialize\n",
    "    synonyms = []\n",
    "    info={}\n",
    "    \n",
    "    # information is saved in class = \"productInfo\"\n",
    "    # -- only price is missing (to be implemented) --\n",
    "    productinfo = soup.find('div', class_='productInfo')\n",
    "    \n",
    "    # get primary product details\n",
    "    name = productinfo.find(itemprop=\"name\").get_text()\n",
    "    name = name.replace('\\t',\"\").replace('\\n',\"\").replace(u'\\xa0', u' ').strip()\n",
    "    description = productinfo.find(itemprop=\"description\").get_text()\n",
    "    description = description.replace('\\t',\"\").replace('\\n',\"\").replace(u'\\xa0', u' ').strip()\n",
    "    pid = productinfo.find(\"\", itemprop='productID').get_text().strip()\n",
    "    brand = productinfo.find(\"\", itemprop='brand').get_text().strip()\n",
    "\n",
    "    synonymtext =  productinfo.find(\"p\", class_=\"synonym\")\n",
    "\n",
    "    if synonymtext:\n",
    "\n",
    "        synonymtext = synonymtext.get_text().replace('\\t',\"\").replace('\\n',\"\").replace(u'\\xa0', u' ').strip('Synonyms:')\n",
    "        synonyms = synonymtext.split(\",\")\n",
    "        synonyms = [x.strip() for x in synonyms]\n",
    "    \n",
    "    price = \"\"\n",
    "    \n",
    "    info['name'] = name\n",
    "    info['description'] = description\n",
    "    info['pid'] = pid\n",
    "    info['brand'] = brand\n",
    "    info['synonyms'] = synonyms\n",
    "    info['price'] = ''\n",
    "    \n",
    "    ## get secondary info \n",
    "\n",
    "    lielements = productinfo.find_next('ul').find_all('li')\n",
    "    \n",
    "    if lielements:\n",
    "    \n",
    "        keys = []\n",
    "        values = []\n",
    "        for li in lielements:\n",
    "            value = li.find(\"span\").get_text()\n",
    "            value = value.replace('\\t',\"\").replace('\\n',\"\").replace(u'\\xa0', u' ').strip()\n",
    "            key = li.get_text().split(value)[0]\n",
    "            key = key.replace('\\t',\"\").replace('\\n',\"\").replace(u'\\xa0', u' ').strip()\n",
    "    #     print(key, value)\n",
    "            info[key] = value\n",
    "    \n",
    "    return info\n",
    "\n",
    "info = get_product_details(soup)\n",
    "info"
   ]
  },
  {
   "cell_type": "markdown",
   "metadata": {},
   "source": [
    "### loop over several products"
   ]
  },
  {
   "cell_type": "code",
   "execution_count": 330,
   "metadata": {
    "scrolled": false
   },
   "outputs": [
    {
     "name": "stdout",
     "output_type": "stream",
     "text": [
      "{'name': 'Sodium bromide', 'description': 'anhydrous, beads, −10 mesh, 99.999% trace metals basis', 'pid': '460591', 'brand': 'Aldrich', 'synonyms': [], 'price': '', 'CAS Number': '7647-15-6', 'Linear Formula': 'NaBr', 'Molecular Weight': '102.89', 'EC Number': '231-599-9', 'MDL number': 'MFCD00003475', 'PubChem Substance ID': '24869713', 'Popular Documents:  Specification Sheet (PDF)': 'Popular Documents:  Specification Sheet (PDF)'}\n",
      "{'name': 'β-Alanine', 'description': 'analytical standard', 'pid': '41144', 'brand': 'Sigma-Aldrich', 'synonyms': ['β-Ala', '3-Aminopropionic acid'], 'price': '', 'CAS Number': '107-95-9', 'Linear Formula': 'NH2CH2CH2COOH', 'Molecular Weight': '89.09', 'Beilstein Registry Number': '906793', 'EC Number': '203-536-5', 'MDL number': 'MFCD00008200', 'PubChem Substance ID': '329756061'}\n",
      "{'name': 'Potassium iodide', 'description': 'anhydrous, beads, −10 mesh, 99.998% trace metals basis', 'pid': '429422', 'brand': 'Aldrich', 'synonyms': [], 'price': '', 'CAS Number': '7681-11-0', 'Linear Formula': 'KI', 'Molecular Weight': '166.00', 'EC Number': '231-659-4', 'MDL number': 'MFCD00011405', 'PubChem Substance ID': '24866859', 'Popular Documents:  Specification Sheet (PDF)': 'Popular Documents:  Specification Sheet (PDF)'}\n",
      "{'name': '(2,5-Dimethoxyphenyl)acetyl chloride', 'description': '99%', 'pid': '264806', 'brand': 'Aldrich', 'synonyms': [], 'price': '', 'CAS Number': '52711-92-9', 'Linear Formula': '(CH3O)2C6H3CH2COCl', 'Molecular Weight': '214.65', 'MDL number': 'MFCD00012046', 'PubChem Substance ID': '24856038'}\n",
      "{'name': 'SPB®-Octyl Capillary GC Column', 'description': 'L × I.D. 30 m × 0.25 mm, df 0.25 μm', 'pid': '24218-U', 'brand': 'Supelco', 'synonyms': [], 'price': '', 'eCl@ss': '32119290'}\n",
      "{'name': 'Aprotinin', 'description': 'from bovine lung', 'pid': 'ROAPRO', 'brand': 'Roche', 'synonyms': ['pancreatic trypsin inhibitor', 'trypsin inhibitor', 'pancreas type (bpti)', 'trypsin-kallikrein inhibitor'], 'price': '', 'Popular Documents:  Bulletin (PDF)': 'Popular Documents:  Bulletin (PDF)'}\n",
      "{'name': 'β-Galactosidase', 'description': 'EIA grade', 'pid': '10745731001', 'brand': 'Roche', 'synonyms': [], 'price': '', 'Enzyme Commission (EC) Number  3.2.1.23  ( BRENDA | IUBMB )': '3.2.1.23  ( BRENDA | IUBMB )', 'Popular Documents:  Bulletin (PDF)': 'Popular Documents:  Bulletin (PDF)'}\n",
      "{'name': '1/4 in. HB to M Luer lock nickel/chrome plated', 'description': '1, Accessories for filter holders for sample preparation.', 'pid': 'XX3002564', 'brand': 'EMD Millipore', 'synonyms': [], 'price': ''}\n",
      "{'name': '1-Naphtholbenzein', 'description': '1-Naphtholbenzein indicator Reag. Ph Eur. CAS 145-50-6, molar mass 374.44 g/mol., indicator Reag. Ph Eur', 'pid': '1.06202', 'brand': 'EMD Millipore', 'synonyms': [], 'price': '', 'CAS Number': '145-50-6', 'Linear Formula': 'C₂₇H₁₈O₂', 'Molecular Weight  374.44 g/mol': '374.44 g/mol', 'EC Number': '205-656-3'}\n",
      "{'name': 'Ethyl alcohol, Pure', 'description': '190 proof, meets USP testing specifications', 'pid': '493538', 'brand': 'Sigma-Aldrich', 'synonyms': ['Ethanol', 'absolute alcohol', 'non-denatured ethanol'], 'price': '', 'CAS Number': '64-17-5', 'Linear Formula': 'CH3CH2OH', 'Molecular Weight': '46.07', 'EC Number': '200-578-6', 'MDL number': 'MFCD00003568', 'PubChem Substance ID': '57651183', 'Popular Documents:  Specification Sheet (PDF)': 'Popular Documents:  Specification Sheet (PDF)'}\n",
      "{'name': 'Ethyl alcohol, Pure', 'description': '190 proof, ACS spectrophotometric grade, 95.0%', 'pid': '493511', 'brand': 'Sigma-Aldrich', 'synonyms': ['Ethanol', 'absolute alcohol', 'non-denatured ethanol'], 'price': '', 'CAS Number': '64-17-5', 'Linear Formula': 'CH3CH2OH', 'Molecular Weight': '46.07', 'EC Number': '200-578-6', 'MDL number': 'MFCD00003568', 'PubChem Substance ID': '24872841', 'Popular Documents:  Specification Sheet (PDF)': 'Popular Documents:  Specification Sheet (PDF)'}\n",
      "execution total 9.025797843933105\n",
      "execution per item 0.9025928974151611\n"
     ]
    }
   ],
   "source": [
    "import time\n",
    "\n",
    "### test on couple of products throughtout their catalog\n",
    "\n",
    "producturls = [\n",
    "    \"http://www.sigmaaldrich.com/catalog/product/aldrich/460591?lang=en&region=US\",\n",
    "    \"http://www.sigmaaldrich.com/catalog/product/sial/41144\",  \n",
    "    \"http://www.sigmaaldrich.com/catalog/product/aldrich/429422\",\n",
    "    \"http://www.sigmaaldrich.com/catalog/product/aldrich/264806\",\n",
    "    \"http://www.sigmaaldrich.com/catalog/product/supelco/24218u\",\n",
    "    \"http://www.sigmaaldrich.com/catalog/product/roche/roapro\",\n",
    "    \"http://www.sigmaaldrich.com/catalog/product/roche/10745731001\",\n",
    "    \"http://www.sigmaaldrich.com/catalog/product/mm/xx3002564\",\n",
    "    \"http://www.sigmaaldrich.com/catalog/product/mm/106202\",\n",
    "    \"http://www.sigmaaldrich.com/catalog/product/sial/493538\",\n",
    "    \"http://www.sigmaaldrich.com/catalog/product/sial/493511\"\n",
    "]\n",
    "\n",
    "t = time.time()\n",
    "i = 0 \n",
    "for idx, producturl in enumerate(producturls): \n",
    "    \n",
    "    r = requests.get(producturl)\n",
    "\n",
    "    if r.status_code == 200:\n",
    "        \n",
    "        soup = BeautifulSoup(r.text, \"html.parser\")\n",
    "        \n",
    "        # get product details\n",
    "        productdetails = get_product_details(soup)\n",
    "        print(productdetails)\n",
    "  \n",
    "print(\"execution total\", time.time() - t)\n",
    "print(\"execution per item\", (time.time() - t)/idx)"
   ]
  },
  {
   "cell_type": "code",
   "execution_count": null,
   "metadata": {
    "collapsed": true
   },
   "outputs": [],
   "source": []
  }
 ],
 "metadata": {
  "kernelspec": {
   "display_name": "Python 3",
   "language": "python",
   "name": "python3"
  },
  "language_info": {
   "codemirror_mode": {
    "name": "ipython",
    "version": 3
   },
   "file_extension": ".py",
   "mimetype": "text/x-python",
   "name": "python",
   "nbconvert_exporter": "python",
   "pygments_lexer": "ipython3",
   "version": "3.6.1"
  }
 },
 "nbformat": 4,
 "nbformat_minor": 2
}
